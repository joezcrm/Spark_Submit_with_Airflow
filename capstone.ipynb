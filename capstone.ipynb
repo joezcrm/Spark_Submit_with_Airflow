{
 "cells": [
  {
   "cell_type": "markdown",
   "metadata": {},
   "source": [
    "# Udacity Project Casptone"
   ]
  },
  {
   "cell_type": "markdown",
   "metadata": {},
   "source": [
    "###### This juperter notebook process dimension data and certain fact data that should only be uploaded once.\n",
    "###### Only the final steps of the data processing were shown, and the intermediate, data-exploring steps are not included.\n",
    "###### This project assumes the names of data source files, the formats, and the type of each field remain the same."
   ]
  },
  {
   "cell_type": "markdown",
   "metadata": {},
   "source": [
    "#### Import modules"
   ]
  },
  {
   "cell_type": "code",
   "execution_count": 1,
   "metadata": {},
   "outputs": [
    {
     "data": {
      "application/vnd.jupyter.widget-view+json": {
       "model_id": "c5874b55658f4239be012dc53d6a2ceb",
       "version_major": 2,
       "version_minor": 0
      },
      "text/plain": [
       "VBox()"
      ]
     },
     "metadata": {},
     "output_type": "display_data"
    },
    {
     "name": "stdout",
     "output_type": "stream",
     "text": [
      "Starting Spark application\n"
     ]
    },
    {
     "data": {
      "text/html": [
       "<table>\n",
       "<tr><th>ID</th><th>YARN Application ID</th><th>Kind</th><th>State</th><th>Spark UI</th><th>Driver log</th><th>Current session?</th></tr><tr><td>2</td><td>application_1577482778537_0015</td><td>pyspark</td><td>idle</td><td><a target=\"_blank\" href=\"http://ip-172-31-6-201.us-west-2.compute.internal:20888/proxy/application_1577482778537_0015/\">Link</a></td><td><a target=\"_blank\" href=\"http://ip-172-31-4-84.us-west-2.compute.internal:8042/node/containerlogs/container_1577482778537_0015_01_000001/livy\">Link</a></td><td>✔</td></tr></table>"
      ],
      "text/plain": [
       "<IPython.core.display.HTML object>"
      ]
     },
     "metadata": {},
     "output_type": "display_data"
    },
    {
     "data": {
      "application/vnd.jupyter.widget-view+json": {
       "model_id": "",
       "version_major": 2,
       "version_minor": 0
      },
      "text/plain": [
       "FloatProgress(value=0.0, bar_style='info', description='Progress:', layout=Layout(height='25px', width='50%'),…"
      ]
     },
     "metadata": {},
     "output_type": "display_data"
    },
    {
     "name": "stdout",
     "output_type": "stream",
     "text": [
      "SparkSession available as 'spark'.\n"
     ]
    },
    {
     "data": {
      "application/vnd.jupyter.widget-view+json": {
       "model_id": "",
       "version_major": 2,
       "version_minor": 0
      },
      "text/plain": [
       "FloatProgress(value=0.0, bar_style='info', description='Progress:', layout=Layout(height='25px', width='50%'),…"
      ]
     },
     "metadata": {},
     "output_type": "display_data"
    }
   ],
   "source": [
    "from pyspark.sql import SparkSession\n",
    "from pyspark.sql import Window\n",
    "from pyspark.sql.functions import asc, col, lit, udf\n",
    "from pyspark.sql.functions import sum as Fsum\n",
    "from pyspark.sql.types import (StructType,\n",
    "                              StructField,\n",
    "                              StringType,\n",
    "                              IntegerType,\n",
    "                              DoubleType,\n",
    "                              DateType)"
   ]
  },
  {
   "cell_type": "markdown",
   "metadata": {},
   "source": [
    "#### Create an instance of SparkSession"
   ]
  },
  {
   "cell_type": "code",
   "execution_count": 2,
   "metadata": {},
   "outputs": [
    {
     "data": {
      "application/vnd.jupyter.widget-view+json": {
       "model_id": "53ba378fccfb48fcb4da3bad451b2548",
       "version_major": 2,
       "version_minor": 0
      },
      "text/plain": [
       "VBox()"
      ]
     },
     "metadata": {},
     "output_type": "display_data"
    },
    {
     "data": {
      "application/vnd.jupyter.widget-view+json": {
       "model_id": "",
       "version_major": 2,
       "version_minor": 0
      },
      "text/plain": [
       "FloatProgress(value=0.0, bar_style='info', description='Progress:', layout=Layout(height='25px', width='50%'),…"
      ]
     },
     "metadata": {},
     "output_type": "display_data"
    }
   ],
   "source": [
    "spark = SparkSession \\\n",
    "    .builder \\\n",
    "    .appName(\"Capstone\") \\\n",
    "    .config(\"spark.jars.packages\", \"org.apache.hadoop:hadoop-aws:2.8.5\") \\\n",
    "    .getOrCreate()"
   ]
  },
  {
   "cell_type": "markdown",
   "metadata": {},
   "source": [
    "#### Specify input and output folder here"
   ]
  },
  {
   "cell_type": "code",
   "execution_count": 4,
   "metadata": {},
   "outputs": [
    {
     "data": {
      "application/vnd.jupyter.widget-view+json": {
       "model_id": "22da6375ddc241c6aae82afc051debb3",
       "version_major": 2,
       "version_minor": 0
      },
      "text/plain": [
       "VBox()"
      ]
     },
     "metadata": {},
     "output_type": "display_data"
    },
    {
     "data": {
      "application/vnd.jupyter.widget-view+json": {
       "model_id": "",
       "version_major": 2,
       "version_minor": 0
      },
      "text/plain": [
       "FloatProgress(value=0.0, bar_style='info', description='Progress:', layout=Layout(height='25px', width='50%'),…"
      ]
     },
     "metadata": {},
     "output_type": "display_data"
    }
   ],
   "source": [
    "input_folder = \"s3://joezcrmdb/data_source/\"\n",
    "output_folder = \"s3://joezcrmdb/data/final/\""
   ]
  },
  {
   "cell_type": "markdown",
   "metadata": {},
   "source": [
    "## Common Dimension: cities"
   ]
  },
  {
   "cell_type": "markdown",
   "metadata": {},
   "source": [
    "#### Create custom schema, read cities data, and select certain columns"
   ]
  },
  {
   "cell_type": "code",
   "execution_count": 17,
   "metadata": {},
   "outputs": [
    {
     "data": {
      "application/vnd.jupyter.widget-view+json": {
       "model_id": "4bfa7961ea934edd95d0ba01cd28aaf0",
       "version_major": 2,
       "version_minor": 0
      },
      "text/plain": [
       "VBox()"
      ]
     },
     "metadata": {},
     "output_type": "display_data"
    },
    {
     "data": {
      "application/vnd.jupyter.widget-view+json": {
       "model_id": "",
       "version_major": 2,
       "version_minor": 0
      },
      "text/plain": [
       "FloatProgress(value=0.0, bar_style='info', description='Progress:', layout=Layout(height='25px', width='50%'),…"
      ]
     },
     "metadata": {},
     "output_type": "display_data"
    }
   ],
   "source": [
    "cities_schema = StructType([\n",
    "    StructField(\"city\", StringType()),\n",
    "    StructField(\"state\", StringType()),\n",
    "    StructField(\"median_age\", DoubleType()),\n",
    "    StructField(\"male_population\", IntegerType()),\n",
    "    StructField(\"female_population\", IntegerType()),\n",
    "    StructField(\"total_population\", IntegerType()),\n",
    "    StructField(\"veteran_number\", IntegerType()),\n",
    "    StructField(\"foreign_born\", IntegerType()),\n",
    "    StructField(\"household_size\", DoubleType()),\n",
    "    StructField(\"state_code\", StringType()),\n",
    "    StructField(\"race\", StringType()),\n",
    "    StructField(\"population_by_race\", IntegerType())\n",
    "])\n",
    "cities_df = spark.read.csv(input_folder + \"us-cities-demographics.csv\", \\\n",
    "    sep = \";\", schema = cities_schema, header = True)\n",
    "race_df = cities_df.select([\"city\", \"state\", \"race\", \"population_by_race\"]) \\\n",
    "    .dropDuplicates()\n",
    "cities_df = cities_df.select([\"city\", \"state_code\", \"state\", \"median_age\", \\\n",
    "    \"male_population\", \"female_population\", \"total_population\", \\\n",
    "    \"veteran_number\", \"foreign_born\", \"household_size\"]).dropDuplicates()"
   ]
  },
  {
   "cell_type": "markdown",
   "metadata": {},
   "source": [
    "#### Add an id column to the dataframe"
   ]
  },
  {
   "cell_type": "code",
   "execution_count": 18,
   "metadata": {},
   "outputs": [
    {
     "data": {
      "application/vnd.jupyter.widget-view+json": {
       "model_id": "fad8447b84ce4592b139582ac15a073c",
       "version_major": 2,
       "version_minor": 0
      },
      "text/plain": [
       "VBox()"
      ]
     },
     "metadata": {},
     "output_type": "display_data"
    },
    {
     "data": {
      "application/vnd.jupyter.widget-view+json": {
       "model_id": "",
       "version_major": 2,
       "version_minor": 0
      },
      "text/plain": [
       "FloatProgress(value=0.0, bar_style='info', description='Progress:', layout=Layout(height='25px', width='50%'),…"
      ]
     },
     "metadata": {},
     "output_type": "display_data"
    }
   ],
   "source": [
    "val_for_race = Window.orderBy(asc(\"state\"), asc(\"city\"), asc(\"race\")) \\\n",
    "    .rangeBetween(Window.unboundedPreceding, 0)\n",
    "race_df = race_df.withColumn(\"counter\", lit(1)) \\\n",
    "    .withColumn(\"record_id\", Fsum(\"counter\").over(val_for_race))\n",
    "val_for_cities = Window.orderBy(asc(\"state\"), asc(\"city\")).rangeBetween( \\\n",
    "    Window.unboundedPreceding, 0)\n",
    "cities_df = cities_df.withColumn(\"counter\", lit(1)) \\\n",
    "    .withColumn(\"city_id\", Fsum(\"counter\").over(val_for_cities))"
   ]
  },
  {
   "cell_type": "markdown",
   "metadata": {},
   "source": [
    "#### Create a temp view"
   ]
  },
  {
   "cell_type": "code",
   "execution_count": 19,
   "metadata": {},
   "outputs": [
    {
     "data": {
      "application/vnd.jupyter.widget-view+json": {
       "model_id": "ea54303c0da648d2a013f645f71194f1",
       "version_major": 2,
       "version_minor": 0
      },
      "text/plain": [
       "VBox()"
      ]
     },
     "metadata": {},
     "output_type": "display_data"
    },
    {
     "data": {
      "application/vnd.jupyter.widget-view+json": {
       "model_id": "",
       "version_major": 2,
       "version_minor": 0
      },
      "text/plain": [
       "FloatProgress(value=0.0, bar_style='info', description='Progress:', layout=Layout(height='25px', width='50%'),…"
      ]
     },
     "metadata": {},
     "output_type": "display_data"
    }
   ],
   "source": [
    "race_df.createOrReplaceTempView(\"races\")\n",
    "cities_df.createOrReplaceTempView(\"cities\")"
   ]
  },
  {
   "cell_type": "markdown",
   "metadata": {},
   "source": [
    "#### Check the assumption that city and state uniquely identify each city record"
   ]
  },
  {
   "cell_type": "code",
   "execution_count": 20,
   "metadata": {},
   "outputs": [
    {
     "data": {
      "application/vnd.jupyter.widget-view+json": {
       "model_id": "e0b6e991fe5e49f2a7fcee275f320ad7",
       "version_major": 2,
       "version_minor": 0
      },
      "text/plain": [
       "VBox()"
      ]
     },
     "metadata": {},
     "output_type": "display_data"
    },
    {
     "data": {
      "application/vnd.jupyter.widget-view+json": {
       "model_id": "",
       "version_major": 2,
       "version_minor": 0
      },
      "text/plain": [
       "FloatProgress(value=0.0, bar_style='info', description='Progress:', layout=Layout(height='25px', width='50%'),…"
      ]
     },
     "metadata": {},
     "output_type": "display_data"
    },
    {
     "name": "stdout",
     "output_type": "stream",
     "text": [
      "+--------+\n",
      "|count(1)|\n",
      "+--------+\n",
      "|       0|\n",
      "+--------+"
     ]
    }
   ],
   "source": [
    "query = \"\"\"\n",
    "    SELECT COUNT(*)\n",
    "    FROM\n",
    "    (\n",
    "        SELECT COUNT(*) AS num\n",
    "        FROM cities\n",
    "        GROUP BY (city, state)\n",
    "    ) AS ci\n",
    "    WHERE ci.num > 1\n",
    "\"\"\"\n",
    "spark.sql(query).show()"
   ]
  },
  {
   "cell_type": "markdown",
   "metadata": {},
   "source": [
    "#### Identical as the above cell but use state_code"
   ]
  },
  {
   "cell_type": "code",
   "execution_count": 21,
   "metadata": {},
   "outputs": [
    {
     "data": {
      "application/vnd.jupyter.widget-view+json": {
       "model_id": "f221a8ce49a34485af3e318b0129a424",
       "version_major": 2,
       "version_minor": 0
      },
      "text/plain": [
       "VBox()"
      ]
     },
     "metadata": {},
     "output_type": "display_data"
    },
    {
     "data": {
      "application/vnd.jupyter.widget-view+json": {
       "model_id": "",
       "version_major": 2,
       "version_minor": 0
      },
      "text/plain": [
       "FloatProgress(value=0.0, bar_style='info', description='Progress:', layout=Layout(height='25px', width='50%'),…"
      ]
     },
     "metadata": {},
     "output_type": "display_data"
    },
    {
     "name": "stdout",
     "output_type": "stream",
     "text": [
      "+--------+\n",
      "|count(1)|\n",
      "+--------+\n",
      "|       0|\n",
      "+--------+"
     ]
    }
   ],
   "source": [
    "query = \"\"\"\n",
    "    SELECT COUNT(*)\n",
    "    FROM\n",
    "    (\n",
    "        SELECT COUNT(*) AS num\n",
    "        FROM cities\n",
    "        GROUP BY (city, state_code)\n",
    "    ) AS ci\n",
    "    WHERE ci.num > 1\n",
    "\"\"\"\n",
    "spark.sql(query).show()"
   ]
  },
  {
   "cell_type": "markdown",
   "metadata": {},
   "source": [
    "#### Define custom schema and read temperature data"
   ]
  },
  {
   "cell_type": "code",
   "execution_count": 22,
   "metadata": {},
   "outputs": [
    {
     "data": {
      "application/vnd.jupyter.widget-view+json": {
       "model_id": "d3fbac39164042ec9436aaf1ba6c88ce",
       "version_major": 2,
       "version_minor": 0
      },
      "text/plain": [
       "VBox()"
      ]
     },
     "metadata": {},
     "output_type": "display_data"
    },
    {
     "data": {
      "application/vnd.jupyter.widget-view+json": {
       "model_id": "",
       "version_major": 2,
       "version_minor": 0
      },
      "text/plain": [
       "FloatProgress(value=0.0, bar_style='info', description='Progress:', layout=Layout(height='25px', width='50%'),…"
      ]
     },
     "metadata": {},
     "output_type": "display_data"
    }
   ],
   "source": [
    "temp_schema = StructType([\n",
    "    StructField(\"date\", DateType()),\n",
    "    StructField(\"average_temp\", DoubleType()),\n",
    "    StructField(\"uncertainty\", DoubleType()),\n",
    "    StructField(\"city\", StringType()),\n",
    "    StructField(\"country\", StringType()),\n",
    "    StructField(\"latitude\", StringType()),\n",
    "    StructField(\"longitude\", StringType())\n",
    "])\n",
    "temp_df = spark.read.csv(input_folder + \"GlobalLandTemperaturesByCity.csv\", \\\n",
    "    schema = temp_schema, sep = \";\", header = True)"
   ]
  },
  {
   "cell_type": "markdown",
   "metadata": {},
   "source": [
    "#### Define udf from latitude and longitude column"
   ]
  },
  {
   "cell_type": "code",
   "execution_count": 23,
   "metadata": {},
   "outputs": [
    {
     "data": {
      "application/vnd.jupyter.widget-view+json": {
       "model_id": "75eed009d78b453298705995cdd671b3",
       "version_major": 2,
       "version_minor": 0
      },
      "text/plain": [
       "VBox()"
      ]
     },
     "metadata": {},
     "output_type": "display_data"
    },
    {
     "data": {
      "application/vnd.jupyter.widget-view+json": {
       "model_id": "",
       "version_major": 2,
       "version_minor": 0
      },
      "text/plain": [
       "FloatProgress(value=0.0, bar_style='info', description='Progress:', layout=Layout(height='25px', width='50%'),…"
      ]
     },
     "metadata": {},
     "output_type": "display_data"
    }
   ],
   "source": [
    "@udf (DoubleType())\n",
    "def to_numeric_lat(text):\n",
    "    list_result = list(text)\n",
    "    number_part = list_result[:(len(list_result)-1)]\n",
    "    if list_result[len(list_result)-1] == \"N\":\n",
    "        num_sign = []\n",
    "    elif list_result[len(list_result)-1] == \"S\":\n",
    "        num_sign = [\"-\"]\n",
    "    else:\n",
    "        return None\n",
    "    return float(\"\".join(num_sign + number_part))\n",
    "\n",
    "@udf (DoubleType())\n",
    "def to_numeric_long(text):\n",
    "    list_result = list(text)\n",
    "    number_part = list_result[:(len(list_result)-1)]\n",
    "    if list_result[len(list_result)-1] == \"E\":\n",
    "        num_sign = []\n",
    "    elif list_result[len(list_result)-1] == \"W\":\n",
    "        num_sign = [\"-\"]\n",
    "    else:\n",
    "        return None\n",
    "    return float(\"\".join(num_sign + number_part))"
   ]
  },
  {
   "cell_type": "markdown",
   "metadata": {},
   "source": [
    "#### Add columns to dataframe and create temp view"
   ]
  },
  {
   "cell_type": "code",
   "execution_count": 24,
   "metadata": {},
   "outputs": [
    {
     "data": {
      "application/vnd.jupyter.widget-view+json": {
       "model_id": "4556a01bfb7b40cf88f48078a70c7328",
       "version_major": 2,
       "version_minor": 0
      },
      "text/plain": [
       "VBox()"
      ]
     },
     "metadata": {},
     "output_type": "display_data"
    },
    {
     "data": {
      "application/vnd.jupyter.widget-view+json": {
       "model_id": "",
       "version_major": 2,
       "version_minor": 0
      },
      "text/plain": [
       "FloatProgress(value=0.0, bar_style='info', description='Progress:', layout=Layout(height='25px', width='50%'),…"
      ]
     },
     "metadata": {},
     "output_type": "display_data"
    }
   ],
   "source": [
    "temp_df = temp_df.withColumn(\"numeric_lat\", to_numeric_lat(col(\"latitude\")))\\\n",
    "    .withColumn(\"numeric_long\", to_numeric_long(col(\"longitude\")))\n",
    "temp_df.createOrReplaceTempView(\"temperature\")"
   ]
  },
  {
   "cell_type": "markdown",
   "metadata": {},
   "source": [
    "#### Create an sql query and run the query"
   ]
  },
  {
   "cell_type": "code",
   "execution_count": 25,
   "metadata": {},
   "outputs": [
    {
     "data": {
      "application/vnd.jupyter.widget-view+json": {
       "model_id": "7445dc744bbf4a4ebd879ead224d9178",
       "version_major": 2,
       "version_minor": 0
      },
      "text/plain": [
       "VBox()"
      ]
     },
     "metadata": {},
     "output_type": "display_data"
    },
    {
     "data": {
      "application/vnd.jupyter.widget-view+json": {
       "model_id": "",
       "version_major": 2,
       "version_minor": 0
      },
      "text/plain": [
       "FloatProgress(value=0.0, bar_style='info', description='Progress:', layout=Layout(height='25px', width='50%'),…"
      ]
     },
     "metadata": {},
     "output_type": "display_data"
    }
   ],
   "source": [
    "query = \"\"\"\n",
    "    SELECT DISTINCT cities.city_id AS city_id, \n",
    "        cities.city AS city, \n",
    "        cities.state_code AS state_code,\n",
    "        cities.state AS state,\n",
    "        temperature.numeric_lat AS latitude,\n",
    "        temperature.numeric_long AS longitude,\n",
    "        cities.median_age AS median_age,\n",
    "        cities.male_population AS male_population,\n",
    "        cities.female_population AS female_population,\n",
    "        cities.total_population AS total_population,\n",
    "        cities.veteran_number AS veteran_number,\n",
    "        cities.foreign_born AS foreign_born,\n",
    "        cities.household_size AS household_size\n",
    "    FROM\n",
    "    (\n",
    "        SELECT city_id, city, state_code, state, median_age, male_population,\n",
    "            female_population, total_population, veteran_number, foreign_born, \n",
    "            household_size\n",
    "        FROM cities\n",
    "    ) AS cities\n",
    "    LEFT JOIN\n",
    "    (\n",
    "        SELECT DISTINCT city, numeric_lat, numeric_long\n",
    "        FROM temperature\n",
    "        WHERE country = 'United States'\n",
    "    ) As temperature\n",
    "    ON cities.city = temperature.city\n",
    "\"\"\"\n",
    "dimension_cities_df = spark.sql(query)"
   ]
  },
  {
   "cell_type": "markdown",
   "metadata": {},
   "source": [
    "#### Create temp view"
   ]
  },
  {
   "cell_type": "code",
   "execution_count": 26,
   "metadata": {},
   "outputs": [
    {
     "data": {
      "application/vnd.jupyter.widget-view+json": {
       "model_id": "bddb7da877b640d8b92d6a0d90eb505f",
       "version_major": 2,
       "version_minor": 0
      },
      "text/plain": [
       "VBox()"
      ]
     },
     "metadata": {},
     "output_type": "display_data"
    },
    {
     "data": {
      "application/vnd.jupyter.widget-view+json": {
       "model_id": "",
       "version_major": 2,
       "version_minor": 0
      },
      "text/plain": [
       "FloatProgress(value=0.0, bar_style='info', description='Progress:', layout=Layout(height='25px', width='50%'),…"
      ]
     },
     "metadata": {},
     "output_type": "display_data"
    }
   ],
   "source": [
    "dimension_cities_df.createOrReplaceTempView(\"dimension\")"
   ]
  },
  {
   "cell_type": "markdown",
   "metadata": {},
   "source": [
    "#### Search for the not unique records"
   ]
  },
  {
   "cell_type": "code",
   "execution_count": 27,
   "metadata": {},
   "outputs": [
    {
     "data": {
      "application/vnd.jupyter.widget-view+json": {
       "model_id": "04273779e6924b11b523279dbf23d44e",
       "version_major": 2,
       "version_minor": 0
      },
      "text/plain": [
       "VBox()"
      ]
     },
     "metadata": {},
     "output_type": "display_data"
    },
    {
     "data": {
      "application/vnd.jupyter.widget-view+json": {
       "model_id": "",
       "version_major": 2,
       "version_minor": 0
      },
      "text/plain": [
       "FloatProgress(value=0.0, bar_style='info', description='Progress:', layout=Layout(height='25px', width='50%'),…"
      ]
     },
     "metadata": {},
     "output_type": "display_data"
    },
    {
     "name": "stdout",
     "output_type": "stream",
     "text": [
      "29"
     ]
    }
   ],
   "source": [
    "query = \"\"\"\n",
    "    SELECT cll.cll_row.city,\n",
    "        cll.cll_row.latitude,\n",
    "        cll.cll_row.longitude\n",
    "    FROM\n",
    "    (\n",
    "        SELECT (city, latitude, longitude) AS cll_row, COUNT(*) AS num\n",
    "        FROM\n",
    "        (\n",
    "            SELECT * FROM dimension\n",
    "            WHERE latitude IS NOT NULL\n",
    "            AND longitude IS NOT NULL\n",
    "        )\n",
    "        GROUP BY (city, latitude, longitude)\n",
    "    ) AS cll\n",
    "    WHERE cll.num > 1\n",
    "    \"\"\"\n",
    "not_unique_record = spark.sql(query)\n",
    "not_unique_record.count()"
   ]
  },
  {
   "cell_type": "markdown",
   "metadata": {},
   "source": [
    "#### Show the city name of the not unique record"
   ]
  },
  {
   "cell_type": "code",
   "execution_count": 28,
   "metadata": {},
   "outputs": [
    {
     "data": {
      "application/vnd.jupyter.widget-view+json": {
       "model_id": "249ad77a03974986af214266a65a31fe",
       "version_major": 2,
       "version_minor": 0
      },
      "text/plain": [
       "VBox()"
      ]
     },
     "metadata": {},
     "output_type": "display_data"
    },
    {
     "data": {
      "application/vnd.jupyter.widget-view+json": {
       "model_id": "",
       "version_major": 2,
       "version_minor": 0
      },
      "text/plain": [
       "FloatProgress(value=0.0, bar_style='info', description='Progress:', layout=Layout(height='25px', width='50%'),…"
      ]
     },
     "metadata": {},
     "output_type": "display_data"
    },
    {
     "name": "stdout",
     "output_type": "stream",
     "text": [
      "+------------+\n",
      "|        city|\n",
      "+------------+\n",
      "| Springfield|\n",
      "|Fayetteville|\n",
      "|    Portland|\n",
      "|      Aurora|\n",
      "|    Columbus|\n",
      "|    Pasadena|\n",
      "|    Glendale|\n",
      "|    Lakewood|\n",
      "| Westminster|\n",
      "|   Lafayette|\n",
      "|   Arlington|\n",
      "|     Jackson|\n",
      "|   Rochester|\n",
      "| Kansas City|\n",
      "|      Peoria|\n",
      "|Jacksonville|\n",
      "|     Norwalk|\n",
      "|    Richmond|\n",
      "|    Columbia|\n",
      "|     Concord|\n",
      "+------------+"
     ]
    }
   ],
   "source": [
    "not_unique_record.select([\"city\"]).dropDuplicates().show(30)"
   ]
  },
  {
   "cell_type": "markdown",
   "metadata": {},
   "source": [
    "#### Run multiple times to check the coordinate of the above cities"
   ]
  },
  {
   "cell_type": "code",
   "execution_count": 29,
   "metadata": {},
   "outputs": [
    {
     "data": {
      "application/vnd.jupyter.widget-view+json": {
       "model_id": "7ec39d7b232f406d9b0b93ec6d4e8550",
       "version_major": 2,
       "version_minor": 0
      },
      "text/plain": [
       "VBox()"
      ]
     },
     "metadata": {},
     "output_type": "display_data"
    },
    {
     "data": {
      "application/vnd.jupyter.widget-view+json": {
       "model_id": "",
       "version_major": 2,
       "version_minor": 0
      },
      "text/plain": [
       "FloatProgress(value=0.0, bar_style='info', description='Progress:', layout=Layout(height='25px', width='50%'),…"
      ]
     },
     "metadata": {},
     "output_type": "display_data"
    },
    {
     "name": "stdout",
     "output_type": "stream",
     "text": [
      "+-------+-------+----------+--------------+--------+---------+----------+---------------+-----------------+----------------+--------------+------------+--------------+\n",
      "|city_id|   city|state_code|         state|latitude|longitude|median_age|male_population|female_population|total_population|veteran_number|foreign_born|household_size|\n",
      "+-------+-------+----------+--------------+--------+---------+----------+---------------+-----------------+----------------+--------------+------------+--------------+\n",
      "|     54|Concord|        CA|    California|   37.78|  -122.03|      39.6|          62310|            66358|          128668|          6287|       37428|          2.72|\n",
      "|    419|Concord|        NC|North Carolina|   37.78|  -122.03|      35.7|          42732|            44961|           87693|          4621|        8847|          2.72|\n",
      "+-------+-------+----------+--------------+--------+---------+----------+---------------+-----------------+----------------+--------------+------------+--------------+"
     ]
    }
   ],
   "source": [
    "query = \"\"\"\n",
    "    SELECT * FROM dimension\n",
    "    WHERE city = 'Concord'\n",
    "    \"\"\"\n",
    "spark.sql(query).show()"
   ]
  },
  {
   "cell_type": "markdown",
   "metadata": {},
   "source": [
    "#### Input new records for city coordinates"
   ]
  },
  {
   "cell_type": "code",
   "execution_count": 30,
   "metadata": {},
   "outputs": [
    {
     "data": {
      "application/vnd.jupyter.widget-view+json": {
       "model_id": "f2f15abfde80488990ee2048db02d098",
       "version_major": 2,
       "version_minor": 0
      },
      "text/plain": [
       "VBox()"
      ]
     },
     "metadata": {},
     "output_type": "display_data"
    },
    {
     "data": {
      "application/vnd.jupyter.widget-view+json": {
       "model_id": "",
       "version_major": 2,
       "version_minor": 0
      },
      "text/plain": [
       "FloatProgress(value=0.0, bar_style='info', description='Progress:', layout=Layout(height='25px', width='50%'),…"
      ]
     },
     "metadata": {},
     "output_type": "display_data"
    }
   ],
   "source": [
    "new_data = [\n",
    "    [493, 'Arlington', 32.95, -96.70],\n",
    "    [558, 'Arlington', 39.38, -76.99],\n",
    "    [258, 'Aurora', 40.99, -87.34],\n",
    "    [169, 'Aurora', 39.38, -104.05],\n",
    "    [246, 'Columbus', 32.95, -85.21],\n",
    "    [436, 'Columbus', 39.38, -83.24],\n",
    "    [73, 'Glendale', 34.56, -118.70],\n",
    "    [14, 'Glendale', 32.95, -112.02],\n",
    "    [110, 'Pasadena', 34.56, -118.70],\n",
    "    [532, 'Pasadena', 29.74, -96.00],\n",
    "    [17, 'Peoria', 32.95, -112.02],\n",
    "    [270, 'Peoria', 40.99, -89.47],\n",
    "    [122, 'Richmond', 37.78, -122.03],\n",
    "    [567, 'Richmond', 37.78, -77.29],\n",
    "    [334, 'Springfield', 42.59, -72.00],\n",
    "    [274, 'Springfield', 39.38, -89.48],\n",
    "    [373, 'Springfield', 37.78, -93.56],\n",
    "    [421, 'Fayetteville', 34.56, -79.78],\n",
    "    [25, 'Fayetteville', None, None],\n",
    "    [454, 'Portland', 45.81, -123.46],\n",
    "    [311, 'Portland', None, None],\n",
    "    [85, 'Lakewood', None, None],\n",
    "    [178, 'Lakewood', 39.38, -104.05],\n",
    "    [164, 'Westminster', None, None],\n",
    "    [183, 'Westminster', 39.38, -104.05],\n",
    "    [306, 'Lafayette', 29.74, -92.31],\n",
    "    [284, 'Lafayette', None, None],\n",
    "    [484, 'Jackson', None, None],\n",
    "    [364, 'Jackson', 32.95, -90.96],\n",
    "    [359, 'Rochester', None, None],\n",
    "    [412, 'Rochester', 42.59, -78.55],\n",
    "    [367, 'Kansas City', 39.38, -93.64],\n",
    "    [294, 'Kansas City', 39.38, -93.64],\n",
    "    [426, 'Jacksonville', None, None],\n",
    "    [211, 'Jacksonville', 29.74, -81.23],\n",
    "    [189, 'Norwalk', None, None],\n",
    "    [102, 'Norwalk', 34.56, -118.70],\n",
    "    [475, 'Columbia', 34.56, -81.73],\n",
    "    [365, 'Columbia', None, None],\n",
    "    [313, 'Columbia', None, None],\n",
    "    [54, 'Concord', 37.78, -122.03],\n",
    "    [419, 'Concord', None, None]\n",
    "]\n",
    "update_schema = StructType([\n",
    "    StructField(\"city_id\", IntegerType()),\n",
    "    StructField(\"city\", StringType()),\n",
    "    StructField(\"latitude\", DoubleType()),\n",
    "    StructField(\"longitude\", DoubleType())\n",
    "])\n",
    "update_df = spark.createDataFrame(new_data, update_schema)"
   ]
  },
  {
   "cell_type": "markdown",
   "metadata": {},
   "source": [
    "#### Create Temp View for the new records"
   ]
  },
  {
   "cell_type": "code",
   "execution_count": 31,
   "metadata": {},
   "outputs": [
    {
     "data": {
      "application/vnd.jupyter.widget-view+json": {
       "model_id": "1a4630685a114ea0b1071223fa4dc1fc",
       "version_major": 2,
       "version_minor": 0
      },
      "text/plain": [
       "VBox()"
      ]
     },
     "metadata": {},
     "output_type": "display_data"
    },
    {
     "data": {
      "application/vnd.jupyter.widget-view+json": {
       "model_id": "",
       "version_major": 2,
       "version_minor": 0
      },
      "text/plain": [
       "FloatProgress(value=0.0, bar_style='info', description='Progress:', layout=Layout(height='25px', width='50%'),…"
      ]
     },
     "metadata": {},
     "output_type": "display_data"
    }
   ],
   "source": [
    "update_df.createOrReplaceTempView(\"update_data\")"
   ]
  },
  {
   "cell_type": "markdown",
   "metadata": {},
   "source": [
    "#### Create a query to generate the final result of the dimension cities"
   ]
  },
  {
   "cell_type": "code",
   "execution_count": 32,
   "metadata": {},
   "outputs": [
    {
     "data": {
      "application/vnd.jupyter.widget-view+json": {
       "model_id": "4b71c256eb1e4656ba44f81935b6b9b1",
       "version_major": 2,
       "version_minor": 0
      },
      "text/plain": [
       "VBox()"
      ]
     },
     "metadata": {},
     "output_type": "display_data"
    },
    {
     "data": {
      "application/vnd.jupyter.widget-view+json": {
       "model_id": "",
       "version_major": 2,
       "version_minor": 0
      },
      "text/plain": [
       "FloatProgress(value=0.0, bar_style='info', description='Progress:', layout=Layout(height='25px', width='50%'),…"
      ]
     },
     "metadata": {},
     "output_type": "display_data"
    }
   ],
   "source": [
    "query = \"\"\"\n",
    "    SELECT DISTINCT city_id, city, state_code, state, latitude, longitude,\n",
    "        median_age, male_population, female_population, total_population,\n",
    "        veteran_number, foreign_born, household_size\n",
    "    FROM dimension\n",
    "    WHERE city_id NOT IN\n",
    "    (\n",
    "        SELECT DISTINCT city_id FROM update_data\n",
    "    )\n",
    "    UNION\n",
    "    (\n",
    "        SELECT DISTINCT od.city_id AS city_id, \n",
    "            od.city AS city, \n",
    "            od.state_code AS state_code, \n",
    "            od.state AS state,\n",
    "            ud.latitude AS latitude, \n",
    "            ud.longitude AS longitude, \n",
    "            od.median_age AS median_age, \n",
    "            od.male_population AS male_population,\n",
    "            od.female_population AS female_population, \n",
    "            od.total_population AS total_population, \n",
    "            od.veteran_number AS veteran_number,\n",
    "            od.foreign_born AS foreign_born, \n",
    "            od.household_size AS household_size\n",
    "        FROM\n",
    "        (\n",
    "            SELECT DISTINCT city_id, latitude, longitude\n",
    "            FROM update_data\n",
    "        ) AS ud\n",
    "        JOIN\n",
    "        (\n",
    "            SELECT DISTINCT city_id, city, state_code, state, latitude,\n",
    "                longitude, median_age, male_population, female_population,\n",
    "                total_population, veteran_number, foreign_born, household_size\n",
    "            FROM dimension\n",
    "        ) AS od\n",
    "        ON ud.city_id = od.city_id\n",
    "    )\n",
    "    \"\"\"\n",
    "final_cities_df = spark.sql(query)"
   ]
  },
  {
   "cell_type": "markdown",
   "metadata": {},
   "source": [
    "#### Write data to files"
   ]
  },
  {
   "cell_type": "code",
   "execution_count": 33,
   "metadata": {},
   "outputs": [
    {
     "data": {
      "application/vnd.jupyter.widget-view+json": {
       "model_id": "57487c293ae04d9c96c88ed7e6f4593e",
       "version_major": 2,
       "version_minor": 0
      },
      "text/plain": [
       "VBox()"
      ]
     },
     "metadata": {},
     "output_type": "display_data"
    },
    {
     "data": {
      "application/vnd.jupyter.widget-view+json": {
       "model_id": "",
       "version_major": 2,
       "version_minor": 0
      },
      "text/plain": [
       "FloatProgress(value=0.0, bar_style='info', description='Progress:', layout=Layout(height='25px', width='50%'),…"
      ]
     },
     "metadata": {},
     "output_type": "display_data"
    }
   ],
   "source": [
    "final_cities_df.write.mode(\"overwrite\").partitionBy(\"state_code\") \\\n",
    "    .parquet(output_folder + \"common_dimension/dimension_cities.parquet\")"
   ]
  },
  {
   "cell_type": "markdown",
   "metadata": {},
   "source": [
    "#### Check data quality of dimension cities file"
   ]
  },
  {
   "cell_type": "code",
   "execution_count": 34,
   "metadata": {},
   "outputs": [
    {
     "data": {
      "application/vnd.jupyter.widget-view+json": {
       "model_id": "e2ff93cc10534df29c86dc5f09b2200c",
       "version_major": 2,
       "version_minor": 0
      },
      "text/plain": [
       "VBox()"
      ]
     },
     "metadata": {},
     "output_type": "display_data"
    },
    {
     "data": {
      "application/vnd.jupyter.widget-view+json": {
       "model_id": "",
       "version_major": 2,
       "version_minor": 0
      },
      "text/plain": [
       "FloatProgress(value=0.0, bar_style='info', description='Progress:', layout=Layout(height='25px', width='50%'),…"
      ]
     },
     "metadata": {},
     "output_type": "display_data"
    }
   ],
   "source": [
    "ci_df = spark.read.parquet(output_folder + \"common_dimension/dimension_cities.parquet\")\n",
    "ci_df.createOrReplaceTempView(\"ci\")"
   ]
  },
  {
   "cell_type": "markdown",
   "metadata": {},
   "source": [
    "#### Count the resulting rows; it is an error if the count is zero"
   ]
  },
  {
   "cell_type": "code",
   "execution_count": 35,
   "metadata": {},
   "outputs": [
    {
     "data": {
      "application/vnd.jupyter.widget-view+json": {
       "model_id": "d80df630badc4dc5b36abb3212a3739f",
       "version_major": 2,
       "version_minor": 0
      },
      "text/plain": [
       "VBox()"
      ]
     },
     "metadata": {},
     "output_type": "display_data"
    },
    {
     "data": {
      "application/vnd.jupyter.widget-view+json": {
       "model_id": "",
       "version_major": 2,
       "version_minor": 0
      },
      "text/plain": [
       "FloatProgress(value=0.0, bar_style='info', description='Progress:', layout=Layout(height='25px', width='50%'),…"
      ]
     },
     "metadata": {},
     "output_type": "display_data"
    },
    {
     "name": "stdout",
     "output_type": "stream",
     "text": [
      "596"
     ]
    }
   ],
   "source": [
    "ci_df.count()"
   ]
  },
  {
   "cell_type": "markdown",
   "metadata": {},
   "source": [
    "#### Check whether city_id has NULL value; it is an error is not zero"
   ]
  },
  {
   "cell_type": "code",
   "execution_count": 36,
   "metadata": {},
   "outputs": [
    {
     "data": {
      "application/vnd.jupyter.widget-view+json": {
       "model_id": "39f978a9aa0241ff890320ffbb1471ed",
       "version_major": 2,
       "version_minor": 0
      },
      "text/plain": [
       "VBox()"
      ]
     },
     "metadata": {},
     "output_type": "display_data"
    },
    {
     "data": {
      "application/vnd.jupyter.widget-view+json": {
       "model_id": "",
       "version_major": 2,
       "version_minor": 0
      },
      "text/plain": [
       "FloatProgress(value=0.0, bar_style='info', description='Progress:', layout=Layout(height='25px', width='50%'),…"
      ]
     },
     "metadata": {},
     "output_type": "display_data"
    },
    {
     "name": "stdout",
     "output_type": "stream",
     "text": [
      "+--------+\n",
      "|count(1)|\n",
      "+--------+\n",
      "|       0|\n",
      "+--------+"
     ]
    }
   ],
   "source": [
    "query = \"SELECT COUNT(*) FROM ci WHERE city_id IS NULL\"\n",
    "spark.sql(query).show()"
   ]
  },
  {
   "cell_type": "markdown",
   "metadata": {},
   "source": [
    "## Fact: races"
   ]
  },
  {
   "cell_type": "markdown",
   "metadata": {},
   "source": [
    "#### Write race data to parquet"
   ]
  },
  {
   "cell_type": "code",
   "execution_count": 37,
   "metadata": {},
   "outputs": [
    {
     "data": {
      "application/vnd.jupyter.widget-view+json": {
       "model_id": "4582a9431c544f11b47ac763431a41bc",
       "version_major": 2,
       "version_minor": 0
      },
      "text/plain": [
       "VBox()"
      ]
     },
     "metadata": {},
     "output_type": "display_data"
    },
    {
     "data": {
      "application/vnd.jupyter.widget-view+json": {
       "model_id": "",
       "version_major": 2,
       "version_minor": 0
      },
      "text/plain": [
       "FloatProgress(value=0.0, bar_style='info', description='Progress:', layout=Layout(height='25px', width='50%'),…"
      ]
     },
     "metadata": {},
     "output_type": "display_data"
    }
   ],
   "source": [
    "query = \"\"\"\n",
    "    SELECT r.record_id AS record_id,\n",
    "        c.city_id AS city_id,\n",
    "        r.race AS race,\n",
    "        r.population_by_race AS population\n",
    "    FROM\n",
    "    (\n",
    "        SELECT DISTINCT record_id, city, state, race, \n",
    "            population_by_race\n",
    "        FROM races\n",
    "    ) AS r\n",
    "    JOIN\n",
    "    (\n",
    "        SELECT DISTINCT city_id, city, state\n",
    "        FROM dimension\n",
    "    ) AS c\n",
    "    ON r.city = c.city\n",
    "    AND r.state = c.state\n",
    "    \"\"\"\n",
    "final_race_df = spark.sql(query)\n",
    "final_race_df.write.mode(\"overwrite\") \\\n",
    "    .partitionBy(\"city_id\") \\\n",
    "    .parquet(output_folder + \"races/fact_races.parquet\")"
   ]
  },
  {
   "cell_type": "markdown",
   "metadata": {},
   "source": [
    "#### Check race data quality; it is an error if the count is zero"
   ]
  },
  {
   "cell_type": "code",
   "execution_count": 38,
   "metadata": {},
   "outputs": [
    {
     "data": {
      "application/vnd.jupyter.widget-view+json": {
       "model_id": "72f359278ddd4feb82b0a67796c33bde",
       "version_major": 2,
       "version_minor": 0
      },
      "text/plain": [
       "VBox()"
      ]
     },
     "metadata": {},
     "output_type": "display_data"
    },
    {
     "data": {
      "application/vnd.jupyter.widget-view+json": {
       "model_id": "",
       "version_major": 2,
       "version_minor": 0
      },
      "text/plain": [
       "FloatProgress(value=0.0, bar_style='info', description='Progress:', layout=Layout(height='25px', width='50%'),…"
      ]
     },
     "metadata": {},
     "output_type": "display_data"
    },
    {
     "name": "stdout",
     "output_type": "stream",
     "text": [
      "2891"
     ]
    }
   ],
   "source": [
    "ra_df = spark.read.parquet(output_folder + \"races/fact_races.parquet\")\n",
    "ra_df.count()"
   ]
  },
  {
   "cell_type": "markdown",
   "metadata": {},
   "source": [
    "## Immigration Dimension: ports"
   ]
  },
  {
   "cell_type": "markdown",
   "metadata": {},
   "source": [
    "#### Read port data file"
   ]
  },
  {
   "cell_type": "code",
   "execution_count": 39,
   "metadata": {},
   "outputs": [
    {
     "data": {
      "application/vnd.jupyter.widget-view+json": {
       "model_id": "7c2a6354af934a8db80d97031fdeeb8e",
       "version_major": 2,
       "version_minor": 0
      },
      "text/plain": [
       "VBox()"
      ]
     },
     "metadata": {},
     "output_type": "display_data"
    },
    {
     "data": {
      "application/vnd.jupyter.widget-view+json": {
       "model_id": "",
       "version_major": 2,
       "version_minor": 0
      },
      "text/plain": [
       "FloatProgress(value=0.0, bar_style='info', description='Progress:', layout=Layout(height='25px', width='50%'),…"
      ]
     },
     "metadata": {},
     "output_type": "display_data"
    }
   ],
   "source": [
    "port_df = spark.read.csv(input_folder + \"code/port_code.csv\", header = True)"
   ]
  },
  {
   "cell_type": "markdown",
   "metadata": {},
   "source": [
    "#### Create udf to generate numeric latitude and longitude"
   ]
  },
  {
   "cell_type": "code",
   "execution_count": 40,
   "metadata": {},
   "outputs": [
    {
     "data": {
      "application/vnd.jupyter.widget-view+json": {
       "model_id": "e03c3655397a416da82a0ebec0e38f7f",
       "version_major": 2,
       "version_minor": 0
      },
      "text/plain": [
       "VBox()"
      ]
     },
     "metadata": {},
     "output_type": "display_data"
    },
    {
     "data": {
      "application/vnd.jupyter.widget-view+json": {
       "model_id": "",
       "version_major": 2,
       "version_minor": 0
      },
      "text/plain": [
       "FloatProgress(value=0.0, bar_style='info', description='Progress:', layout=Layout(height='25px', width='50%'),…"
      ]
     },
     "metadata": {},
     "output_type": "display_data"
    }
   ],
   "source": [
    "@udf (StringType())\n",
    "def get_name(text):\n",
    "    try:\n",
    "        result = text.split(\",\")\n",
    "        return result[0].strip()\n",
    "    except Exception as e:\n",
    "        return None\n",
    "\n",
    "@udf (StringType())\n",
    "def get_region_code(text):\n",
    "    try:\n",
    "        result = text.split(\",\")\n",
    "        return result[1].strip()\n",
    "    except Exception as e:\n",
    "        return None"
   ]
  },
  {
   "cell_type": "markdown",
   "metadata": {},
   "source": [
    "#### Separate the field"
   ]
  },
  {
   "cell_type": "code",
   "execution_count": 41,
   "metadata": {},
   "outputs": [
    {
     "data": {
      "application/vnd.jupyter.widget-view+json": {
       "model_id": "b24fb92de29a46fc9646f51b561b0a98",
       "version_major": 2,
       "version_minor": 0
      },
      "text/plain": [
       "VBox()"
      ]
     },
     "metadata": {},
     "output_type": "display_data"
    },
    {
     "data": {
      "application/vnd.jupyter.widget-view+json": {
       "model_id": "",
       "version_major": 2,
       "version_minor": 0
      },
      "text/plain": [
       "FloatProgress(value=0.0, bar_style='info', description='Progress:', layout=Layout(height='25px', width='50%'),…"
      ]
     },
     "metadata": {},
     "output_type": "display_data"
    }
   ],
   "source": [
    "final_port_df = port_df.select([\"port_id\", \"port\"]) \\\n",
    "    .withColumn(\"port_name\", get_name(col(\"port\"))) \\\n",
    "    .withColumn(\"region_code\", get_region_code(col(\"port\")))"
   ]
  },
  {
   "cell_type": "markdown",
   "metadata": {},
   "source": [
    "#### Write port data to immigration folder"
   ]
  },
  {
   "cell_type": "code",
   "execution_count": 42,
   "metadata": {},
   "outputs": [
    {
     "data": {
      "application/vnd.jupyter.widget-view+json": {
       "model_id": "e5c9b0b7affa4f338d1026d6908f8eb8",
       "version_major": 2,
       "version_minor": 0
      },
      "text/plain": [
       "VBox()"
      ]
     },
     "metadata": {},
     "output_type": "display_data"
    },
    {
     "data": {
      "application/vnd.jupyter.widget-view+json": {
       "model_id": "",
       "version_major": 2,
       "version_minor": 0
      },
      "text/plain": [
       "FloatProgress(value=0.0, bar_style='info', description='Progress:', layout=Layout(height='25px', width='50%'),…"
      ]
     },
     "metadata": {},
     "output_type": "display_data"
    }
   ],
   "source": [
    "final_port_df.select([\"port_id\", \"port_name\", \"region_code\"]) \\\n",
    "    .write.mode(\"overwrite\") \\\n",
    "    .parquet(output_folder + \"immigration/port_code.parquet\")"
   ]
  },
  {
   "cell_type": "markdown",
   "metadata": {},
   "source": [
    "#### port data quality check"
   ]
  },
  {
   "cell_type": "code",
   "execution_count": 43,
   "metadata": {},
   "outputs": [
    {
     "data": {
      "application/vnd.jupyter.widget-view+json": {
       "model_id": "6ff95f7ad9864b05983bef4a4a3bfffe",
       "version_major": 2,
       "version_minor": 0
      },
      "text/plain": [
       "VBox()"
      ]
     },
     "metadata": {},
     "output_type": "display_data"
    },
    {
     "data": {
      "application/vnd.jupyter.widget-view+json": {
       "model_id": "",
       "version_major": 2,
       "version_minor": 0
      },
      "text/plain": [
       "FloatProgress(value=0.0, bar_style='info', description='Progress:', layout=Layout(height='25px', width='50%'),…"
      ]
     },
     "metadata": {},
     "output_type": "display_data"
    },
    {
     "name": "stdout",
     "output_type": "stream",
     "text": [
      "591"
     ]
    }
   ],
   "source": [
    "po_df = spark.read.parquet(output_folder + \"immigration/port_code.parquet\")\n",
    "po_df.count()"
   ]
  },
  {
   "cell_type": "markdown",
   "metadata": {},
   "source": [
    "#### Check if port id is unique"
   ]
  },
  {
   "cell_type": "code",
   "execution_count": 44,
   "metadata": {},
   "outputs": [
    {
     "data": {
      "application/vnd.jupyter.widget-view+json": {
       "model_id": "5aee4c9cca6647cebc6002c5260d9b10",
       "version_major": 2,
       "version_minor": 0
      },
      "text/plain": [
       "VBox()"
      ]
     },
     "metadata": {},
     "output_type": "display_data"
    },
    {
     "data": {
      "application/vnd.jupyter.widget-view+json": {
       "model_id": "",
       "version_major": 2,
       "version_minor": 0
      },
      "text/plain": [
       "FloatProgress(value=0.0, bar_style='info', description='Progress:', layout=Layout(height='25px', width='50%'),…"
      ]
     },
     "metadata": {},
     "output_type": "display_data"
    },
    {
     "name": "stdout",
     "output_type": "stream",
     "text": [
      "+--------+\n",
      "|count(1)|\n",
      "+--------+\n",
      "|       0|\n",
      "+--------+"
     ]
    }
   ],
   "source": [
    "po_df.createOrReplaceTempView(\"ports\")\n",
    "query = \"\"\"\n",
    "    SELECT COUNT(*) FROM\n",
    "    (\n",
    "        SELECT port_id, COUNT(*) AS num\n",
    "        FROM ports\n",
    "        GROUP BY port_id\n",
    "    ) AS po\n",
    "    WHERE po.num > 1\n",
    "\"\"\"\n",
    "spark.sql(query).show()"
   ]
  },
  {
   "cell_type": "markdown",
   "metadata": {},
   "source": [
    "## Immigration Dimension: country"
   ]
  },
  {
   "cell_type": "markdown",
   "metadata": {},
   "source": [
    "#### Read country data form file"
   ]
  },
  {
   "cell_type": "code",
   "execution_count": 45,
   "metadata": {},
   "outputs": [
    {
     "data": {
      "application/vnd.jupyter.widget-view+json": {
       "model_id": "ef2adefddaac4b479b18aacf38f6f697",
       "version_major": 2,
       "version_minor": 0
      },
      "text/plain": [
       "VBox()"
      ]
     },
     "metadata": {},
     "output_type": "display_data"
    },
    {
     "data": {
      "application/vnd.jupyter.widget-view+json": {
       "model_id": "",
       "version_major": 2,
       "version_minor": 0
      },
      "text/plain": [
       "FloatProgress(value=0.0, bar_style='info', description='Progress:', layout=Layout(height='25px', width='50%'),…"
      ]
     },
     "metadata": {},
     "output_type": "display_data"
    }
   ],
   "source": [
    "country_schema = StructType([\n",
    "    StructField(\"country_code\", IntegerType()),\n",
    "    StructField(\"country\", StringType())\n",
    "    ])\n",
    "country_df = spark.read.csv(input_folder + \"code/country_code.csv\", \\\n",
    "    header = True, schema = country_schema)"
   ]
  },
  {
   "cell_type": "markdown",
   "metadata": {},
   "source": [
    "#### Write country data to immigration folder"
   ]
  },
  {
   "cell_type": "code",
   "execution_count": 46,
   "metadata": {},
   "outputs": [
    {
     "data": {
      "application/vnd.jupyter.widget-view+json": {
       "model_id": "49786ee6680d4c43a03cce09376fca6e",
       "version_major": 2,
       "version_minor": 0
      },
      "text/plain": [
       "VBox()"
      ]
     },
     "metadata": {},
     "output_type": "display_data"
    },
    {
     "data": {
      "application/vnd.jupyter.widget-view+json": {
       "model_id": "",
       "version_major": 2,
       "version_minor": 0
      },
      "text/plain": [
       "FloatProgress(value=0.0, bar_style='info', description='Progress:', layout=Layout(height='25px', width='50%'),…"
      ]
     },
     "metadata": {},
     "output_type": "display_data"
    }
   ],
   "source": [
    "country_df.write.mode(\"overwrite\") \\\n",
    "    .parquet(output_folder + \"immigration/dimension_countries.parquet\")"
   ]
  },
  {
   "cell_type": "markdown",
   "metadata": {},
   "source": [
    "#### Data quality check"
   ]
  },
  {
   "cell_type": "code",
   "execution_count": 47,
   "metadata": {},
   "outputs": [
    {
     "data": {
      "application/vnd.jupyter.widget-view+json": {
       "model_id": "d5b1d598bf07492f967ac3367701541e",
       "version_major": 2,
       "version_minor": 0
      },
      "text/plain": [
       "VBox()"
      ]
     },
     "metadata": {},
     "output_type": "display_data"
    },
    {
     "data": {
      "application/vnd.jupyter.widget-view+json": {
       "model_id": "",
       "version_major": 2,
       "version_minor": 0
      },
      "text/plain": [
       "FloatProgress(value=0.0, bar_style='info', description='Progress:', layout=Layout(height='25px', width='50%'),…"
      ]
     },
     "metadata": {},
     "output_type": "display_data"
    },
    {
     "name": "stdout",
     "output_type": "stream",
     "text": [
      "289"
     ]
    }
   ],
   "source": [
    "co_df = spark.read.parquet(output_folder + \"immigration/dimension_countries.parquet\")\n",
    "co_df.count()"
   ]
  },
  {
   "cell_type": "markdown",
   "metadata": {},
   "source": [
    "#### Check whether country_code is unique"
   ]
  },
  {
   "cell_type": "code",
   "execution_count": 48,
   "metadata": {},
   "outputs": [
    {
     "data": {
      "application/vnd.jupyter.widget-view+json": {
       "model_id": "118d5f89dcef460d9a03504e069c7e11",
       "version_major": 2,
       "version_minor": 0
      },
      "text/plain": [
       "VBox()"
      ]
     },
     "metadata": {},
     "output_type": "display_data"
    },
    {
     "data": {
      "application/vnd.jupyter.widget-view+json": {
       "model_id": "",
       "version_major": 2,
       "version_minor": 0
      },
      "text/plain": [
       "FloatProgress(value=0.0, bar_style='info', description='Progress:', layout=Layout(height='25px', width='50%'),…"
      ]
     },
     "metadata": {},
     "output_type": "display_data"
    },
    {
     "name": "stdout",
     "output_type": "stream",
     "text": [
      "+--------+\n",
      "|count(1)|\n",
      "+--------+\n",
      "|       0|\n",
      "+--------+"
     ]
    }
   ],
   "source": [
    "co_df.createOrReplaceTempView(\"countries\")\n",
    "query = \"\"\"\n",
    "    SELECT COUNT(*) FROM\n",
    "    (\n",
    "        SELECT country_code, COUNT(*) AS num\n",
    "        FROM countries\n",
    "        GROUP BY country_code\n",
    "    ) AS co\n",
    "    WHERE co.num > 1\n",
    "\"\"\"\n",
    "spark.sql(query).show()"
   ]
  },
  {
   "cell_type": "markdown",
   "metadata": {},
   "source": [
    "## Immigration Dimension: visa type"
   ]
  },
  {
   "cell_type": "markdown",
   "metadata": {},
   "source": [
    "#### Read data from file"
   ]
  },
  {
   "cell_type": "code",
   "execution_count": 49,
   "metadata": {},
   "outputs": [
    {
     "data": {
      "application/vnd.jupyter.widget-view+json": {
       "model_id": "c92485e6f25546f9b36682ec4be9662f",
       "version_major": 2,
       "version_minor": 0
      },
      "text/plain": [
       "VBox()"
      ]
     },
     "metadata": {},
     "output_type": "display_data"
    },
    {
     "data": {
      "application/vnd.jupyter.widget-view+json": {
       "model_id": "",
       "version_major": 2,
       "version_minor": 0
      },
      "text/plain": [
       "FloatProgress(value=0.0, bar_style='info', description='Progress:', layout=Layout(height='25px', width='50%'),…"
      ]
     },
     "metadata": {},
     "output_type": "display_data"
    }
   ],
   "source": [
    "visa_schema = StructType([\n",
    "    StructField(\"visa_id\", IntegerType()),\n",
    "    StructField(\"visa_type\", StringType())\n",
    "])\n",
    "visa_df = spark.read.csv(input_folder + \"code/visa_type.csv\", \\\n",
    "    header = True, schema = visa_schema)"
   ]
  },
  {
   "cell_type": "markdown",
   "metadata": {},
   "source": [
    "#### Write data to immigration folder"
   ]
  },
  {
   "cell_type": "code",
   "execution_count": 50,
   "metadata": {},
   "outputs": [
    {
     "data": {
      "application/vnd.jupyter.widget-view+json": {
       "model_id": "967f6c29cac44ee484fcdcabd42a5f73",
       "version_major": 2,
       "version_minor": 0
      },
      "text/plain": [
       "VBox()"
      ]
     },
     "metadata": {},
     "output_type": "display_data"
    },
    {
     "data": {
      "application/vnd.jupyter.widget-view+json": {
       "model_id": "",
       "version_major": 2,
       "version_minor": 0
      },
      "text/plain": [
       "FloatProgress(value=0.0, bar_style='info', description='Progress:', layout=Layout(height='25px', width='50%'),…"
      ]
     },
     "metadata": {},
     "output_type": "display_data"
    }
   ],
   "source": [
    "visa_df.write.mode(\"overwrite\") \\\n",
    "    .parquet(output_folder + \"immigration/visa_type.parquet\")"
   ]
  },
  {
   "cell_type": "markdown",
   "metadata": {},
   "source": [
    "#### Data quality check; since the number of row is very small, just show them all"
   ]
  },
  {
   "cell_type": "code",
   "execution_count": 51,
   "metadata": {},
   "outputs": [
    {
     "data": {
      "application/vnd.jupyter.widget-view+json": {
       "model_id": "9fb7e08269a54a9285200191b1fb2239",
       "version_major": 2,
       "version_minor": 0
      },
      "text/plain": [
       "VBox()"
      ]
     },
     "metadata": {},
     "output_type": "display_data"
    },
    {
     "data": {
      "application/vnd.jupyter.widget-view+json": {
       "model_id": "",
       "version_major": 2,
       "version_minor": 0
      },
      "text/plain": [
       "FloatProgress(value=0.0, bar_style='info', description='Progress:', layout=Layout(height='25px', width='50%'),…"
      ]
     },
     "metadata": {},
     "output_type": "display_data"
    },
    {
     "name": "stdout",
     "output_type": "stream",
     "text": [
      "+-------+---------+\n",
      "|visa_id|visa_type|\n",
      "+-------+---------+\n",
      "|      1| Business|\n",
      "|      2| Pleasure|\n",
      "|      3|  Student|\n",
      "+-------+---------+"
     ]
    }
   ],
   "source": [
    "vi_df = spark.read.parquet(output_folder + \"immigration/visa_type.parquet\")\n",
    "vi_df.show()"
   ]
  },
  {
   "cell_type": "markdown",
   "metadata": {},
   "source": [
    "## Immigration Dimension: transportation modes"
   ]
  },
  {
   "cell_type": "markdown",
   "metadata": {},
   "source": [
    "#### Read data from file"
   ]
  },
  {
   "cell_type": "code",
   "execution_count": 52,
   "metadata": {},
   "outputs": [
    {
     "data": {
      "application/vnd.jupyter.widget-view+json": {
       "model_id": "cf418ee7f8894969b05b8109854d1512",
       "version_major": 2,
       "version_minor": 0
      },
      "text/plain": [
       "VBox()"
      ]
     },
     "metadata": {},
     "output_type": "display_data"
    },
    {
     "data": {
      "application/vnd.jupyter.widget-view+json": {
       "model_id": "",
       "version_major": 2,
       "version_minor": 0
      },
      "text/plain": [
       "FloatProgress(value=0.0, bar_style='info', description='Progress:', layout=Layout(height='25px', width='50%'),…"
      ]
     },
     "metadata": {},
     "output_type": "display_data"
    }
   ],
   "source": [
    "trans_schema = StructType([\n",
    "    StructField(\"mode_id\", IntegerType()),\n",
    "    StructField(\"mode\", StringType())\n",
    "])\n",
    "trans_df = spark.read.csv(input_folder + \"code/transportation_mode.csv\", \\\n",
    "    header = True, schema = trans_schema)"
   ]
  },
  {
   "cell_type": "markdown",
   "metadata": {},
   "source": [
    "#### Write data to file"
   ]
  },
  {
   "cell_type": "code",
   "execution_count": 53,
   "metadata": {},
   "outputs": [
    {
     "data": {
      "application/vnd.jupyter.widget-view+json": {
       "model_id": "5475f589fcc245a6b191d7b888957fe7",
       "version_major": 2,
       "version_minor": 0
      },
      "text/plain": [
       "VBox()"
      ]
     },
     "metadata": {},
     "output_type": "display_data"
    },
    {
     "data": {
      "application/vnd.jupyter.widget-view+json": {
       "model_id": "",
       "version_major": 2,
       "version_minor": 0
      },
      "text/plain": [
       "FloatProgress(value=0.0, bar_style='info', description='Progress:', layout=Layout(height='25px', width='50%'),…"
      ]
     },
     "metadata": {},
     "output_type": "display_data"
    }
   ],
   "source": [
    "trans_df.write.mode(\"overwrite\") \\\n",
    "    .parquet(output_folder + \"immigration/transportation_mode.parquet\")"
   ]
  },
  {
   "cell_type": "markdown",
   "metadata": {},
   "source": [
    "#### Data quality check; just show them"
   ]
  },
  {
   "cell_type": "code",
   "execution_count": 54,
   "metadata": {},
   "outputs": [
    {
     "data": {
      "application/vnd.jupyter.widget-view+json": {
       "model_id": "6f843f6ddaf04ec7a2241a8a1de2779e",
       "version_major": 2,
       "version_minor": 0
      },
      "text/plain": [
       "VBox()"
      ]
     },
     "metadata": {},
     "output_type": "display_data"
    },
    {
     "data": {
      "application/vnd.jupyter.widget-view+json": {
       "model_id": "",
       "version_major": 2,
       "version_minor": 0
      },
      "text/plain": [
       "FloatProgress(value=0.0, bar_style='info', description='Progress:', layout=Layout(height='25px', width='50%'),…"
      ]
     },
     "metadata": {},
     "output_type": "display_data"
    },
    {
     "name": "stdout",
     "output_type": "stream",
     "text": [
      "+-------+------------+\n",
      "|mode_id|        mode|\n",
      "+-------+------------+\n",
      "|      1|         Air|\n",
      "|      2|         Sea|\n",
      "|      3|        Land|\n",
      "|      9|Not reported|\n",
      "+-------+------------+"
     ]
    }
   ],
   "source": [
    "tr_df = spark.read.parquet(output_folder + \"immigration/transportation_mode.parquet\")\n",
    "tr_df.show()"
   ]
  },
  {
   "cell_type": "markdown",
   "metadata": {},
   "source": [
    "## Fact: airports"
   ]
  },
  {
   "cell_type": "markdown",
   "metadata": {},
   "source": [
    "#### The fact_airport.py is submited to spark-submit\n",
    "#### Perform data quality check; if the count is zero, it is an error"
   ]
  },
  {
   "cell_type": "code",
   "execution_count": null,
   "metadata": {},
   "outputs": [
    {
     "data": {
      "application/vnd.jupyter.widget-view+json": {
       "model_id": "e4313dae85054c088a6149b916395e6a",
       "version_major": 2,
       "version_minor": 0
      },
      "text/plain": [
       "VBox()"
      ]
     },
     "metadata": {},
     "output_type": "display_data"
    },
    {
     "data": {
      "application/vnd.jupyter.widget-view+json": {
       "model_id": "67e5b48f56744d9ab6a0a6dc467c8062",
       "version_major": 2,
       "version_minor": 0
      },
      "text/plain": [
       "FloatProgress(value=0.0, bar_style='info', description='Progress:', layout=Layout(height='25px', width='50%'),…"
      ]
     },
     "metadata": {},
     "output_type": "display_data"
    }
   ],
   "source": [
    "airport_df = spark.read.parquet(output_folder + \"airports/fact_airports.parquet\")\n",
    "airport_df.count()"
   ]
  },
  {
   "cell_type": "code",
   "execution_count": null,
   "metadata": {},
   "outputs": [],
   "source": []
  }
 ],
 "metadata": {
  "kernelspec": {
   "display_name": "PySpark",
   "language": "",
   "name": "pysparkkernel"
  },
  "language_info": {
   "codemirror_mode": {
    "name": "python",
    "version": 2
   },
   "mimetype": "text/x-python",
   "name": "pyspark",
   "pygments_lexer": "python2"
  }
 },
 "nbformat": 4,
 "nbformat_minor": 4
}
